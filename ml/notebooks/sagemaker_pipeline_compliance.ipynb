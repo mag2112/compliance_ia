{
 "cells": [
  {
   "cell_type": "markdown",
   "id": "ad685b7d",
   "metadata": {},
   "source": [
    "# 📘 Projeto: Análise Semântica de Leis com SageMaker Studio"
   ]
  },
  {
   "cell_type": "code",
   "execution_count": null,
   "id": "64614ee3",
   "metadata": {},
   "outputs": [],
   "source": [
    "!pip install sentence-transformers opensearch-py boto3"
   ]
  },
  {
   "cell_type": "markdown",
   "id": "7309e0bf",
   "metadata": {},
   "source": [
    "## 🔧 1. Criar índice no OpenSearch"
   ]
  },
  {
   "cell_type": "code",
   "execution_count": null,
   "id": "75932ea4",
   "metadata": {},
   "outputs": [],
   "source": [
    "# cole aqui o conteúdo de criar_indice.py ou use:\n",
    "%run criar_indice.py"
   ]
  },
  {
   "cell_type": "markdown",
   "id": "dcd4fa74",
   "metadata": {},
   "source": [
    "## 📥 2. Processar documentos do S3 e gerar embeddings"
   ]
  },
  {
   "cell_type": "code",
   "execution_count": null,
   "id": "781c0b30",
   "metadata": {},
   "outputs": [],
   "source": [
    "# cole aqui o conteúdo de processar_arquivos.py ou use:\n",
    "%run processar_arquivos.py"
   ]
  },
  {
   "cell_type": "markdown",
   "id": "721ba27e",
   "metadata": {},
   "source": [
    "## 🔍 3. Executar consulta semântica"
   ]
  },
  {
   "cell_type": "code",
   "execution_count": null,
   "id": "db8c4d28",
   "metadata": {},
   "outputs": [],
   "source": [
    "# cole aqui o conteúdo de consulta_semantica.py ou use:\n",
    "%run consulta_semantica.py"
   ]
  },
  {
   "cell_type": "markdown",
   "id": "f35b8fe0",
   "metadata": {},
   "source": [
    "## 📊 4. Verificar log de versões"
   ]
  },
  {
   "cell_type": "code",
   "execution_count": null,
   "id": "ddf5f4b1",
   "metadata": {},
   "outputs": [],
   "source": [
    "import pandas as pd\n",
    "pd.read_csv('log_versoes.csv').tail()"
   ]
  },
  {
   "cell_type": "markdown",
   "id": "a3cd1438",
   "metadata": {},
   "source": [
    "## ✅ Observações finais"
   ]
  },
  {
   "cell_type": "markdown",
   "id": "f96d0fcb",
   "metadata": {},
   "source": [
    "- Certifique-se de configurar corretamente as credenciais IAM no ambiente.\n",
    "- Os scripts usam acesso via `boto3.Session()` e `requests-aws4auth` para autenticação no OpenSearch.\n",
    "- O modelo usado é `all-MiniLM-L6-v2` com embeddings de 384 dimensões.\n",
    "- Toda alteração de texto ou revogação será registrada automaticamente nos logs."
   ]
  }
 ],
 "metadata": {},
 "nbformat": 4,
 "nbformat_minor": 5
}
